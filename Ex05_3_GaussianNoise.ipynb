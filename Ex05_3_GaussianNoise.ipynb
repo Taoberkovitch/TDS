{
 "cells": [
  {
   "cell_type": "markdown",
   "metadata": {},
   "source": [
    "## Imports"
   ]
  },
  {
   "cell_type": "code",
   "execution_count": 1,
   "metadata": {},
   "outputs": [],
   "source": [
    "import math\n",
    "import numpy as np\n",
    "import pandas as pd\n",
    "\n",
    "from imblearn.datasets import fetch_datasets\n",
    "\n",
    "from sklearn.model_selection import StratifiedKFold\n",
    "from sklearn.ensemble import RandomForestClassifier\n",
    "\n",
    "from sklearn.metrics import *\n",
    "\n",
    "from tqdm.notebook import tqdm\n",
    "import pickle"
   ]
  },
  {
   "cell_type": "code",
   "execution_count": 2,
   "metadata": {},
   "outputs": [],
   "source": [
    "import warnings\n",
    "warnings.filterwarnings('ignore')"
   ]
  },
  {
   "cell_type": "markdown",
   "metadata": {},
   "source": [
    "## Load Data"
   ]
  },
  {
   "cell_type": "code",
   "execution_count": 3,
   "metadata": {},
   "outputs": [],
   "source": [
    "datasets = fetch_datasets()"
   ]
  },
  {
   "cell_type": "code",
   "execution_count": 4,
   "metadata": {},
   "outputs": [],
   "source": [
    "DATASETS_13 = [\n",
    "    'ecoli',\n",
    "    'satimage',\n",
    "    'abalone',\n",
    "    'us_crime',\n",
    "    'yeast_ml8',\n",
    "    'scene',\n",
    "    'coil_2000',\n",
    "    'solar_flare_m0',\n",
    "    'oil',\n",
    "    'wine_quality',\n",
    "    'yeast_me2',\n",
    "    'ozone_level',\n",
    "    'abalone_19'\n",
    "]"
   ]
  },
  {
   "cell_type": "markdown",
   "metadata": {},
   "source": [
    "## Model"
   ]
  },
  {
   "cell_type": "code",
   "execution_count": 5,
   "metadata": {},
   "outputs": [],
   "source": [
    "def resample_train_X_y(X_train, y_train, corruption_ratio):\n",
    "    minority_data = X_train[y_train==1]\n",
    "    majority_data = X_train[y_train==0]\n",
    "\n",
    "    oversampled_minority_data = minority_data[np.random.choice(minority_data.shape[0], len(majority_data), replace=True)]\n",
    "    columns = np.split(oversampled_minority_data, oversampled_minority_data.shape[1], axis=1)\n",
    "    corrupted_columns = [np.random.normal(np.mean(column), np.std(column), len(column)) for column in columns]\n",
    "    corrupted_data = np.vstack(corrupted_columns).T  \n",
    "    \n",
    "    prob_matrix = np.random.choice(\n",
    "        [1, 0], \n",
    "        corrupted_data.shape[0] * corrupted_data.shape[1], \n",
    "        p = [corruption_ratio, 1-corruption_ratio]\n",
    "    ).reshape(corrupted_data.shape)\n",
    "    \n",
    "    resampled_minority_data = (1.0 - prob_matrix) * oversampled_minority_data + prob_matrix * corrupted_data\n",
    "    X_res = np.concatenate((resampled_minority_data, majority_data))    \n",
    "    y_res = np.concatenate((np.ones(len(resampled_minority_data)), np.zeros(len(majority_data))))\n",
    "    \n",
    "    return X_res, y_res"
   ]
  },
  {
   "cell_type": "code",
   "execution_count": 6,
   "metadata": {},
   "outputs": [],
   "source": [
    "def run_model(X, y, corruption_ratio, random_state, n_folds=5):\n",
    "    pred_probas = np.zeros(len(X))\n",
    "    \n",
    "    folds = StratifiedKFold(n_splits=n_folds, shuffle=True, random_state=random_state)\n",
    "    for n_fold, (train_idx, valid_idx) in enumerate(folds.split(X, y)):\n",
    "        X_train = X[train_idx]\n",
    "        X_valid = X[valid_idx]\n",
    "\n",
    "        y_train = y[train_idx]\n",
    "        y_valid = y[valid_idx]\n",
    "        \n",
    "        X_res, y_res = resample_train_X_y(X_train, y_train, corruption_ratio)\n",
    "\n",
    "        model = RandomForestClassifier(random_state=random_state)    \n",
    "        model = model.fit(X_res, y_res)\n",
    "\n",
    "        valid_pred_proba = model.predict_proba(X_valid)[:,1]    \n",
    "        pred_probas[valid_idx] += valid_pred_proba\n",
    "        \n",
    "    return pred_probas    "
   ]
  },
  {
   "cell_type": "code",
   "execution_count": 7,
   "metadata": {},
   "outputs": [],
   "source": [
    "def calc_gmeans(y, pred_probas):\n",
    "    fpr, tpr, thresholds = roc_curve(y, pred_probas)\n",
    "    gmeans = np.sqrt(tpr * (1-fpr))\n",
    "    ix = np.argmax(gmeans)\n",
    "    return gmeans[ix]\n",
    "\n",
    "def calc_f1(y, pred_probas):\n",
    "    precision, recall, thresholds = precision_recall_curve(y, pred_probas)\n",
    "    fscore = []\n",
    "    for p, r in zip(precision, recall):\n",
    "        f1 = (2 * p * r) / (p + r)\n",
    "        if 0.0 <= f1 <= 1.0:\n",
    "            fscore.append(f1)    \n",
    "    ix = np.argmax(fscore)\n",
    "    return fscore[ix]\n",
    "\n",
    "def train_and_evaluate(dataset_name, corruption_ratio, num_runs=10):\n",
    "    gmeans_scores, f1_scores = [], []\n",
    "    \n",
    "    dataset = datasets[dataset_name]\n",
    "    X = dataset.data\n",
    "    y = np.where(dataset.target == -1, 0, 1) \n",
    "    \n",
    "    for run in range(num_runs):\n",
    "        pred_probas = run_model(X, y, corruption_ratio, random_state=run)\n",
    "        gmeans_scores.append(calc_gmeans(y, pred_probas))\n",
    "        f1_scores.append(calc_f1(y, pred_probas))\n",
    "        \n",
    "    return gmeans_scores, f1_scores    "
   ]
  },
  {
   "cell_type": "markdown",
   "metadata": {},
   "source": [
    "## Train and Evaluate"
   ]
  },
  {
   "cell_type": "code",
   "execution_count": 8,
   "metadata": {},
   "outputs": [
    {
     "name": "stdout",
     "output_type": "stream",
     "text": [
      "\n",
      "====================\n",
      "Corruption Ratio 0.10\n",
      "====================\n",
      "Set #1: ecoli\n",
      "Set #2: satimage\n",
      "Set #3: abalone\n",
      "Set #4: us_crime\n",
      "Set #5: yeast_ml8\n",
      "Set #6: scene\n",
      "Set #7: coil_2000\n",
      "Set #8: solar_flare_m0\n",
      "Set #9: oil\n",
      "Set #10: wine_quality\n",
      "Set #11: yeast_me2\n",
      "Set #12: ozone_level\n",
      "Set #13: abalone_19\n",
      "====================\n",
      "Dataset\t\tGMeans (mean)\tGMeans(std)\tF1 (mean)\tF1(std)\n",
      "ecoli          \t0.8898\t\t0.0088\t\t0.6402\t\t0.0230\n",
      "satimage       \t0.8925\t\t0.0019\t\t0.6786\t\t0.0030\n",
      "abalone        \t0.7806\t\t0.0043\t\t0.3955\t\t0.0055\n",
      "us_crime       \t0.8616\t\t0.0064\t\t0.5392\t\t0.0132\n",
      "yeast_ml8      \t0.5740\t\t0.0104\t\t0.1683\t\t0.0067\n",
      "scene          \t0.7353\t\t0.0085\t\t0.3269\t\t0.0090\n",
      "coil_2000      \t0.6579\t\t0.0035\t\t0.2255\t\t0.0032\n",
      "solar_flare_m0 \t0.7139\t\t0.0179\t\t0.2462\t\t0.0155\n",
      "oil            \t0.8744\t\t0.0162\t\t0.6119\t\t0.0287\n",
      "wine_quality   \t0.8211\t\t0.0099\t\t0.4424\t\t0.0149\n",
      "yeast_me2      \t0.8650\t\t0.0098\t\t0.4389\t\t0.0332\n",
      "ozone_level    \t0.8294\t\t0.0057\t\t0.4135\t\t0.0193\n",
      "abalone_19     \t0.7156\t\t0.0220\t\t0.0608\t\t0.0105\n",
      "\n",
      "====================\n",
      "Corruption Ratio 0.25\n",
      "====================\n",
      "Set #1: ecoli\n",
      "Set #2: satimage\n",
      "Set #3: abalone\n",
      "Set #4: us_crime\n",
      "Set #5: yeast_ml8\n",
      "Set #6: scene\n",
      "Set #7: coil_2000\n",
      "Set #8: solar_flare_m0\n",
      "Set #9: oil\n",
      "Set #10: wine_quality\n",
      "Set #11: yeast_me2\n",
      "Set #12: ozone_level\n",
      "Set #13: abalone_19\n",
      "====================\n",
      "Dataset\t\tGMeans (mean)\tGMeans(std)\tF1 (mean)\tF1(std)\n",
      "ecoli          \t0.8884\t\t0.0098\t\t0.6407\t\t0.0225\n",
      "satimage       \t0.8751\t\t0.0023\t\t0.6667\t\t0.0042\n",
      "abalone        \t0.7709\t\t0.0043\t\t0.3736\t\t0.0062\n",
      "us_crime       \t0.8599\t\t0.0061\t\t0.5473\t\t0.0091\n",
      "yeast_ml8      \t0.5767\t\t0.0155\t\t0.1740\t\t0.0098\n",
      "scene          \t0.7249\t\t0.0072\t\t0.3255\t\t0.0120\n",
      "coil_2000      \t0.4994\t\t0.0089\t\t0.1536\t\t0.0055\n",
      "solar_flare_m0 \t0.6840\t\t0.0139\t\t0.2533\t\t0.0144\n",
      "oil            \t0.8630\t\t0.0136\t\t0.6065\t\t0.0425\n",
      "wine_quality   \t0.8214\t\t0.0117\t\t0.4320\t\t0.0119\n",
      "yeast_me2      \t0.8601\t\t0.0104\t\t0.4324\t\t0.0330\n",
      "ozone_level    \t0.8292\t\t0.0104\t\t0.4039\t\t0.0225\n",
      "abalone_19     \t0.7167\t\t0.0162\t\t0.0533\t\t0.0077\n",
      "\n",
      "====================\n",
      "Corruption Ratio 0.50\n",
      "====================\n",
      "Set #1: ecoli\n",
      "Set #2: satimage\n",
      "Set #3: abalone\n",
      "Set #4: us_crime\n",
      "Set #5: yeast_ml8\n",
      "Set #6: scene\n",
      "Set #7: coil_2000\n",
      "Set #8: solar_flare_m0\n",
      "Set #9: oil\n",
      "Set #10: wine_quality\n",
      "Set #11: yeast_me2\n",
      "Set #12: ozone_level\n",
      "Set #13: abalone_19\n",
      "====================\n",
      "Dataset\t\tGMeans (mean)\tGMeans(std)\tF1 (mean)\tF1(std)\n",
      "ecoli          \t0.8923\t\t0.0043\t\t0.6599\t\t0.0366\n",
      "satimage       \t0.8542\t\t0.0021\t\t0.6261\t\t0.0034\n",
      "abalone        \t0.7329\t\t0.0059\t\t0.3239\t\t0.0027\n",
      "us_crime       \t0.8445\t\t0.0050\t\t0.5255\t\t0.0083\n",
      "yeast_ml8      \t0.5790\t\t0.0121\t\t0.1703\t\t0.0045\n",
      "scene          \t0.6440\t\t0.0119\t\t0.2147\t\t0.0085\n",
      "coil_2000      \t0.3821\t\t0.0118\t\t0.1323\t\t0.0052\n",
      "solar_flare_m0 \t0.6406\t\t0.0139\t\t0.2598\t\t0.0080\n",
      "oil            \t0.8415\t\t0.0113\t\t0.6164\t\t0.0306\n",
      "wine_quality   \t0.8037\t\t0.0087\t\t0.3775\t\t0.0131\n",
      "yeast_me2      \t0.8433\t\t0.0132\t\t0.4440\t\t0.0383\n",
      "ozone_level    \t0.8206\t\t0.0110\t\t0.3608\t\t0.0190\n",
      "abalone_19     \t0.6989\t\t0.0121\t\t0.0440\t\t0.0043\n"
     ]
    }
   ],
   "source": [
    "for corruption_ratio in (0.1, 0.25, 0.5):\n",
    "    print(\"\\n====================\")\n",
    "    print(\"Corruption Ratio %.2f\" % corruption_ratio)\n",
    "    print(\"====================\")\n",
    "    results = {}\n",
    "\n",
    "    for i, dataset_name in enumerate(DATASETS_13):\n",
    "        print(\"Set #%d: %s\" % ((i+1), dataset_name))\n",
    "        gmeans_scores, f1_scores = train_and_evaluate(dataset_name, corruption_ratio)\n",
    "        results[dataset_name] = (np.mean(gmeans_scores), np.std(gmeans_scores), np.mean(f1_scores), np.std(f1_scores))\n",
    "    \n",
    "    print(\"====================\")\n",
    "    print(\"Dataset\\t\\tGMeans (mean)\\tGMeans(std)\\tF1 (mean)\\tF1(std)\")\n",
    "    for dataset, r in results.items():\n",
    "        print(\"%-15s\\t%.4f\\t\\t%.4f\\t\\t%.4f\\t\\t%.4f\" % (dataset, *(r))) \n",
    "    \n",
    "    with open(\"results\\ex05_3_gaussian_noise_%.2f.pk\" % corruption_ratio, \"wb\") as f:\n",
    "        pickle.dump(results, f)"
   ]
  },
  {
   "cell_type": "code",
   "execution_count": null,
   "metadata": {},
   "outputs": [],
   "source": []
  }
 ],
 "metadata": {
  "kernelspec": {
   "display_name": "Python 3",
   "language": "python",
   "name": "python3"
  },
  "language_info": {
   "codemirror_mode": {
    "name": "ipython",
    "version": 3
   },
   "file_extension": ".py",
   "mimetype": "text/x-python",
   "name": "python",
   "nbconvert_exporter": "python",
   "pygments_lexer": "ipython3",
   "version": "3.8.3"
  }
 },
 "nbformat": 4,
 "nbformat_minor": 4
}
