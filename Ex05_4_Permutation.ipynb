{
 "cells": [
  {
   "cell_type": "markdown",
   "metadata": {},
   "source": [
    "## Imports"
   ]
  },
  {
   "cell_type": "code",
   "execution_count": 1,
   "metadata": {},
   "outputs": [],
   "source": [
    "import math\n",
    "import numpy as np\n",
    "import pandas as pd\n",
    "\n",
    "from imblearn.datasets import fetch_datasets\n",
    "\n",
    "from sklearn.model_selection import StratifiedKFold\n",
    "from sklearn.ensemble import RandomForestClassifier\n",
    "\n",
    "from sklearn.metrics import *\n",
    "\n",
    "from tqdm.notebook import tqdm\n",
    "import pickle"
   ]
  },
  {
   "cell_type": "code",
   "execution_count": 2,
   "metadata": {},
   "outputs": [],
   "source": [
    "import warnings\n",
    "warnings.filterwarnings('ignore')"
   ]
  },
  {
   "cell_type": "markdown",
   "metadata": {},
   "source": [
    "## Load Data"
   ]
  },
  {
   "cell_type": "code",
   "execution_count": 3,
   "metadata": {},
   "outputs": [],
   "source": [
    "datasets = fetch_datasets()"
   ]
  },
  {
   "cell_type": "code",
   "execution_count": 4,
   "metadata": {},
   "outputs": [],
   "source": [
    "DATASETS_13 = [\n",
    "    'ecoli',\n",
    "    'satimage',\n",
    "    'abalone',\n",
    "    'us_crime',\n",
    "    'yeast_ml8',\n",
    "    'scene',\n",
    "    'coil_2000',\n",
    "    'solar_flare_m0',\n",
    "    'oil',\n",
    "    'wine_quality',\n",
    "    'yeast_me2',\n",
    "    'ozone_level',\n",
    "    'abalone_19'\n",
    "]"
   ]
  },
  {
   "cell_type": "markdown",
   "metadata": {},
   "source": [
    "## Model"
   ]
  },
  {
   "cell_type": "code",
   "execution_count": 5,
   "metadata": {},
   "outputs": [],
   "source": [
    "def resample_train_X_y(X_train, y_train, corruption_ratio):\n",
    "    minority_data = X_train[y_train==1]\n",
    "    majority_data = X_train[y_train==0]\n",
    "\n",
    "    oversampled_minority_data = minority_data[np.random.choice(minority_data.shape[0], len(majority_data), replace=True)]\n",
    "    columns = np.split(oversampled_minority_data, oversampled_minority_data.shape[1], axis=1)\n",
    "    corrupted_columns = [np.random.permutation(column).flatten() for column in columns]\n",
    "    corrupted_data = np.vstack(corrupted_columns).T  \n",
    "    \n",
    "    prob_matrix = np.random.choice(\n",
    "        [1, 0], \n",
    "        corrupted_data.shape[0] * corrupted_data.shape[1], \n",
    "        p = [corruption_ratio, 1-corruption_ratio]\n",
    "    ).reshape(corrupted_data.shape)\n",
    "    \n",
    "    resampled_minority_data = (1.0 - prob_matrix) * oversampled_minority_data + prob_matrix * corrupted_data\n",
    "    X_res = np.concatenate((resampled_minority_data, majority_data))    \n",
    "    y_res = np.concatenate((np.ones(len(resampled_minority_data)), np.zeros(len(majority_data))))\n",
    "    \n",
    "    return X_res, y_res"
   ]
  },
  {
   "cell_type": "code",
   "execution_count": 6,
   "metadata": {},
   "outputs": [],
   "source": [
    "def run_model(X, y, corruption_ratio, random_state, n_folds=5):\n",
    "    pred_probas = np.zeros(len(X))\n",
    "    \n",
    "    folds = StratifiedKFold(n_splits=n_folds, shuffle=True, random_state=random_state)\n",
    "    for n_fold, (train_idx, valid_idx) in enumerate(folds.split(X, y)):\n",
    "        X_train = X[train_idx]\n",
    "        X_valid = X[valid_idx]\n",
    "\n",
    "        y_train = y[train_idx]\n",
    "        y_valid = y[valid_idx]\n",
    "        \n",
    "        X_res, y_res = resample_train_X_y(X_train, y_train, corruption_ratio)\n",
    "\n",
    "        model = RandomForestClassifier(random_state=random_state)    \n",
    "        model = model.fit(X_res, y_res)\n",
    "\n",
    "        valid_pred_proba = model.predict_proba(X_valid)[:,1]    \n",
    "        pred_probas[valid_idx] += valid_pred_proba\n",
    "        \n",
    "    return pred_probas    "
   ]
  },
  {
   "cell_type": "code",
   "execution_count": 7,
   "metadata": {},
   "outputs": [],
   "source": [
    "def calc_gmeans(y, pred_probas):\n",
    "    fpr, tpr, thresholds = roc_curve(y, pred_probas)\n",
    "    gmeans = np.sqrt(tpr * (1-fpr))\n",
    "    ix = np.argmax(gmeans)\n",
    "    return gmeans[ix]\n",
    "\n",
    "def calc_f1(y, pred_probas):\n",
    "    precision, recall, thresholds = precision_recall_curve(y, pred_probas)\n",
    "    fscore = []\n",
    "    for p, r in zip(precision, recall):\n",
    "        f1 = (2 * p * r) / (p + r)\n",
    "        if 0.0 <= f1 <= 1.0:\n",
    "            fscore.append(f1)    \n",
    "    ix = np.argmax(fscore)\n",
    "    return fscore[ix]\n",
    "\n",
    "def train_and_evaluate(dataset_name, corruption_ratio, num_runs=10):\n",
    "    gmeans_scores, f1_scores = [], []\n",
    "    \n",
    "    dataset = datasets[dataset_name]\n",
    "    X = dataset.data\n",
    "    y = np.where(dataset.target == -1, 0, 1) \n",
    "    \n",
    "    for run in range(num_runs):\n",
    "        pred_probas = run_model(X, y, corruption_ratio, random_state=run)\n",
    "        gmeans_scores.append(calc_gmeans(y, pred_probas))\n",
    "        f1_scores.append(calc_f1(y, pred_probas))\n",
    "        \n",
    "    return gmeans_scores, f1_scores    "
   ]
  },
  {
   "cell_type": "markdown",
   "metadata": {},
   "source": [
    "## Train and Evaluate"
   ]
  },
  {
   "cell_type": "code",
   "execution_count": 8,
   "metadata": {},
   "outputs": [
    {
     "name": "stdout",
     "output_type": "stream",
     "text": [
      "\n",
      "====================\n",
      "Corruption Ratio 0.10\n",
      "====================\n",
      "Set #1: ecoli\n",
      "Set #2: satimage\n",
      "Set #3: abalone\n",
      "Set #4: us_crime\n",
      "Set #5: yeast_ml8\n",
      "Set #6: scene\n",
      "Set #7: coil_2000\n",
      "Set #8: solar_flare_m0\n",
      "Set #9: oil\n",
      "Set #10: wine_quality\n",
      "Set #11: yeast_me2\n",
      "Set #12: ozone_level\n",
      "Set #13: abalone_19\n",
      "====================\n",
      "Dataset\t\tGMeans (mean)\tGMeans(std)\tF1 (mean)\tF1(std)\n",
      "ecoli          \t0.8813\t\t0.0117\t\t0.6191\t\t0.0311\n",
      "satimage       \t0.8930\t\t0.0026\t\t0.6803\t\t0.0052\n",
      "abalone        \t0.7851\t\t0.0052\t\t0.3943\t\t0.0064\n",
      "us_crime       \t0.8605\t\t0.0071\t\t0.5357\t\t0.0097\n",
      "yeast_ml8      \t0.5759\t\t0.0138\t\t0.1688\t\t0.0081\n",
      "scene          \t0.7325\t\t0.0088\t\t0.3296\t\t0.0071\n",
      "coil_2000      \t0.6443\t\t0.0034\t\t0.2053\t\t0.0056\n",
      "solar_flare_m0 \t0.7112\t\t0.0146\t\t0.2360\t\t0.0209\n",
      "oil            \t0.8750\t\t0.0166\t\t0.5978\t\t0.0315\n",
      "wine_quality   \t0.8186\t\t0.0077\t\t0.4346\t\t0.0191\n",
      "yeast_me2      \t0.8573\t\t0.0108\t\t0.4060\t\t0.0335\n",
      "ozone_level    \t0.8236\t\t0.0086\t\t0.4007\t\t0.0174\n",
      "abalone_19     \t0.7196\t\t0.0196\t\t0.0649\t\t0.0191\n",
      "\n",
      "====================\n",
      "Corruption Ratio 0.25\n",
      "====================\n",
      "Set #1: ecoli\n",
      "Set #2: satimage\n",
      "Set #3: abalone\n",
      "Set #4: us_crime\n",
      "Set #5: yeast_ml8\n",
      "Set #6: scene\n",
      "Set #7: coil_2000\n",
      "Set #8: solar_flare_m0\n",
      "Set #9: oil\n",
      "Set #10: wine_quality\n",
      "Set #11: yeast_me2\n",
      "Set #12: ozone_level\n",
      "Set #13: abalone_19\n",
      "====================\n",
      "Dataset\t\tGMeans (mean)\tGMeans(std)\tF1 (mean)\tF1(std)\n",
      "ecoli          \t0.8741\t\t0.0112\t\t0.6049\t\t0.0288\n",
      "satimage       \t0.8756\t\t0.0017\t\t0.6690\t\t0.0055\n",
      "abalone        \t0.7810\t\t0.0026\t\t0.3846\t\t0.0055\n",
      "us_crime       \t0.8583\t\t0.0048\t\t0.5447\t\t0.0095\n",
      "yeast_ml8      \t0.5758\t\t0.0099\t\t0.1687\t\t0.0055\n",
      "scene          \t0.7319\t\t0.0073\t\t0.3332\t\t0.0138\n",
      "coil_2000      \t0.6253\t\t0.0043\t\t0.1921\t\t0.0060\n",
      "solar_flare_m0 \t0.7303\t\t0.0134\t\t0.2412\t\t0.0111\n",
      "oil            \t0.8733\t\t0.0160\t\t0.5901\t\t0.0324\n",
      "wine_quality   \t0.8183\t\t0.0071\t\t0.4226\t\t0.0164\n",
      "yeast_me2      \t0.8594\t\t0.0114\t\t0.3996\t\t0.0253\n",
      "ozone_level    \t0.8270\t\t0.0064\t\t0.3986\t\t0.0258\n",
      "abalone_19     \t0.7110\t\t0.0268\t\t0.0600\t\t0.0169\n",
      "\n",
      "====================\n",
      "Corruption Ratio 0.50\n",
      "====================\n",
      "Set #1: ecoli\n",
      "Set #2: satimage\n",
      "Set #3: abalone\n",
      "Set #4: us_crime\n",
      "Set #5: yeast_ml8\n",
      "Set #6: scene\n",
      "Set #7: coil_2000\n",
      "Set #8: solar_flare_m0\n",
      "Set #9: oil\n",
      "Set #10: wine_quality\n",
      "Set #11: yeast_me2\n",
      "Set #12: ozone_level\n",
      "Set #13: abalone_19\n",
      "====================\n",
      "Dataset\t\tGMeans (mean)\tGMeans(std)\tF1 (mean)\tF1(std)\n",
      "ecoli          \t0.8750\t\t0.0112\t\t0.5976\t\t0.0250\n",
      "satimage       \t0.8547\t\t0.0020\t\t0.6333\t\t0.0050\n",
      "abalone        \t0.7643\t\t0.0026\t\t0.3652\t\t0.0055\n",
      "us_crime       \t0.8562\t\t0.0070\t\t0.5410\t\t0.0120\n",
      "yeast_ml8      \t0.5857\t\t0.0092\t\t0.1750\t\t0.0053\n",
      "scene          \t0.7105\t\t0.0055\t\t0.3161\t\t0.0097\n",
      "coil_2000      \t0.5971\t\t0.0034\t\t0.1690\t\t0.0016\n",
      "solar_flare_m0 \t0.7013\t\t0.0108\t\t0.2344\t\t0.0191\n",
      "oil            \t0.8674\t\t0.0122\t\t0.5825\t\t0.0294\n",
      "wine_quality   \t0.8038\t\t0.0074\t\t0.3812\t\t0.0159\n",
      "yeast_me2      \t0.8495\t\t0.0127\t\t0.3798\t\t0.0250\n",
      "ozone_level    \t0.8230\t\t0.0103\t\t0.3826\t\t0.0232\n",
      "abalone_19     \t0.7032\t\t0.0159\t\t0.0502\t\t0.0084\n"
     ]
    }
   ],
   "source": [
    "for corruption_ratio in (0.1, 0.25, 0.5):\n",
    "    print(\"\\n====================\")\n",
    "    print(\"Corruption Ratio %.2f\" % corruption_ratio)\n",
    "    print(\"====================\")\n",
    "    results = {}\n",
    "\n",
    "    for i, dataset_name in enumerate(DATASETS_13):\n",
    "        print(\"Set #%d: %s\" % ((i+1), dataset_name))\n",
    "        gmeans_scores, f1_scores = train_and_evaluate(dataset_name, corruption_ratio)\n",
    "        results[dataset_name] = (np.mean(gmeans_scores), np.std(gmeans_scores), np.mean(f1_scores), np.std(f1_scores))\n",
    "    \n",
    "    print(\"====================\")\n",
    "    print(\"Dataset\\t\\tGMeans (mean)\\tGMeans(std)\\tF1 (mean)\\tF1(std)\")\n",
    "    for dataset, r in results.items():\n",
    "        print(\"%-15s\\t%.4f\\t\\t%.4f\\t\\t%.4f\\t\\t%.4f\" % (dataset, *(r))) \n",
    "    \n",
    "    with open(\"results\\ex05_4_permutation_%.2f.pk\" % corruption_ratio, \"wb\") as f:\n",
    "        pickle.dump(results, f)"
   ]
  },
  {
   "cell_type": "code",
   "execution_count": null,
   "metadata": {},
   "outputs": [],
   "source": []
  }
 ],
 "metadata": {
  "kernelspec": {
   "display_name": "Python 3",
   "language": "python",
   "name": "python3"
  },
  "language_info": {
   "codemirror_mode": {
    "name": "ipython",
    "version": 3
   },
   "file_extension": ".py",
   "mimetype": "text/x-python",
   "name": "python",
   "nbconvert_exporter": "python",
   "pygments_lexer": "ipython3",
   "version": "3.8.3"
  }
 },
 "nbformat": 4,
 "nbformat_minor": 4
}
