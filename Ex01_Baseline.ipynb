{
 "cells": [
  {
   "cell_type": "markdown",
   "metadata": {},
   "source": [
    "## Imports"
   ]
  },
  {
   "cell_type": "code",
   "execution_count": 1,
   "metadata": {},
   "outputs": [],
   "source": [
    "import math\n",
    "import numpy as np\n",
    "import pandas as pd\n",
    "\n",
    "from imblearn.datasets import fetch_datasets\n",
    "\n",
    "from sklearn.model_selection import StratifiedKFold\n",
    "from sklearn.ensemble import RandomForestClassifier\n",
    "\n",
    "from sklearn.metrics import *\n",
    "\n",
    "from tqdm.notebook import tqdm\n",
    "import pickle"
   ]
  },
  {
   "cell_type": "code",
   "execution_count": 2,
   "metadata": {},
   "outputs": [],
   "source": [
    "import warnings\n",
    "warnings.filterwarnings('ignore')"
   ]
  },
  {
   "cell_type": "markdown",
   "metadata": {},
   "source": [
    "## Load Data"
   ]
  },
  {
   "cell_type": "code",
   "execution_count": 3,
   "metadata": {},
   "outputs": [],
   "source": [
    "datasets = fetch_datasets()"
   ]
  },
  {
   "cell_type": "markdown",
   "metadata": {},
   "source": [
    "## Model"
   ]
  },
  {
   "cell_type": "code",
   "execution_count": 4,
   "metadata": {},
   "outputs": [],
   "source": [
    "def resample_train_X_y(X_train, y_train):\n",
    "    return X_train, y_train"
   ]
  },
  {
   "cell_type": "code",
   "execution_count": 5,
   "metadata": {},
   "outputs": [],
   "source": [
    "def run_model(X, y, random_state, n_folds=5):\n",
    "    pred_probas = np.zeros(len(X))\n",
    "    \n",
    "    folds = StratifiedKFold(n_splits=n_folds, shuffle=True, random_state=random_state)\n",
    "    for n_fold, (train_idx, valid_idx) in enumerate(folds.split(X, y)):\n",
    "        X_train = X[train_idx]\n",
    "        X_valid = X[valid_idx]\n",
    "\n",
    "        y_train = y[train_idx]\n",
    "        y_valid = y[valid_idx]\n",
    "        \n",
    "        X_res, y_res = resample_train_X_y(X_train, y_train)\n",
    "\n",
    "        model = RandomForestClassifier(random_state=random_state)    \n",
    "        model = model.fit(X_res, y_res)\n",
    "\n",
    "        valid_pred_proba = model.predict_proba(X_valid)[:,1]    \n",
    "        pred_probas[valid_idx] += valid_pred_proba\n",
    "        \n",
    "    return pred_probas    "
   ]
  },
  {
   "cell_type": "code",
   "execution_count": 6,
   "metadata": {},
   "outputs": [],
   "source": [
    "def calc_gmeans(y, pred_probas):\n",
    "    fpr, tpr, thresholds = roc_curve(y, pred_probas)\n",
    "    gmeans = np.sqrt(tpr * (1-fpr))\n",
    "    ix = np.argmax(gmeans)\n",
    "    return gmeans[ix]\n",
    "\n",
    "def calc_f1(y, pred_probas):\n",
    "    precision, recall, thresholds = precision_recall_curve(y, pred_probas)\n",
    "    fscore = []\n",
    "    for p, r in zip(precision, recall):\n",
    "        f1 = (2 * p * r) / (p + r)\n",
    "        if 0.0 <= f1 <= 1.0:\n",
    "            fscore.append(f1)    \n",
    "    ix = np.argmax(fscore)\n",
    "    return fscore[ix]\n",
    "\n",
    "def train_and_evaluate(dataset_name, num_runs=10):\n",
    "    gmeans_scores, f1_scores = [], []\n",
    "    \n",
    "    dataset = datasets[dataset_name]\n",
    "    X = dataset.data\n",
    "    y = np.where(dataset.target == -1, 0, 1) \n",
    "    \n",
    "    for run in range(num_runs):\n",
    "        pred_probas = run_model(X, y, random_state=run)\n",
    "        gmeans_scores.append(calc_gmeans(y, pred_probas))\n",
    "        f1_scores.append(calc_f1(y, pred_probas))\n",
    "        \n",
    "    return gmeans_scores, f1_scores    "
   ]
  },
  {
   "cell_type": "markdown",
   "metadata": {},
   "source": [
    "## Train and Evaluate"
   ]
  },
  {
   "cell_type": "code",
   "execution_count": 7,
   "metadata": {},
   "outputs": [
    {
     "name": "stdout",
     "output_type": "stream",
     "text": [
      "Set #1: ecoli\n",
      "Set #2: optical_digits\n",
      "Set #3: satimage\n",
      "Set #4: pen_digits\n",
      "Set #5: abalone\n",
      "Set #6: sick_euthyroid\n",
      "Set #7: spectrometer\n",
      "Set #8: car_eval_34\n",
      "Set #9: isolet\n",
      "Set #10: us_crime\n",
      "Set #11: yeast_ml8\n",
      "Set #12: scene\n",
      "Set #13: libras_move\n",
      "Set #14: thyroid_sick\n",
      "Set #15: coil_2000\n",
      "Set #16: arrhythmia\n",
      "Set #17: solar_flare_m0\n",
      "Set #18: oil\n",
      "Set #19: car_eval_4\n",
      "Set #20: wine_quality\n",
      "Set #21: letter_img\n",
      "Set #22: yeast_me2\n",
      "Set #23: webpage\n",
      "Set #24: ozone_level\n",
      "Set #25: mammography\n",
      "Set #26: protein_homo\n",
      "Set #27: abalone_19\n"
     ]
    }
   ],
   "source": [
    "results = {}\n",
    "\n",
    "for i, dataset_name in enumerate(datasets.keys()):\n",
    "    print(\"Set #%d: %s\" % ((i+1), dataset_name))\n",
    "    gmeans_scores, f1_scores = train_and_evaluate(dataset_name)\n",
    "    results[dataset_name] = (np.mean(gmeans_scores), np.std(gmeans_scores), np.mean(f1_scores), np.std(f1_scores))"
   ]
  },
  {
   "cell_type": "markdown",
   "metadata": {},
   "source": [
    "## Display Results"
   ]
  },
  {
   "cell_type": "code",
   "execution_count": 8,
   "metadata": {},
   "outputs": [
    {
     "name": "stdout",
     "output_type": "stream",
     "text": [
      "Dataset\t\tGMeans (mean)\tGMeans(std)\tF1 (mean)\tF1(std)\n",
      "ecoli          \t0.8795\t\t0.0108\t\t0.6666\t\t0.0327\n",
      "optical_digits \t0.9845\t\t0.0009\t\t0.9526\t\t0.0026\n",
      "satimage       \t0.8911\t\t0.0033\t\t0.6932\t\t0.0047\n",
      "pen_digits     \t0.9965\t\t0.0003\t\t0.9913\t\t0.0013\n",
      "abalone        \t0.7876\t\t0.0042\t\t0.3996\t\t0.0062\n",
      "sick_euthyroid \t0.9531\t\t0.0014\t\t0.8798\t\t0.0067\n",
      "spectrometer   \t0.9558\t\t0.0028\t\t0.8829\t\t0.0099\n",
      "car_eval_34    \t0.9921\t\t0.0021\t\t0.9327\t\t0.0073\n",
      "isolet         \t0.9623\t\t0.0024\t\t0.8656\t\t0.0050\n",
      "us_crime       \t0.8581\t\t0.0073\t\t0.5490\t\t0.0111\n",
      "yeast_ml8      \t0.5574\t\t0.0157\t\t0.1608\t\t0.0053\n",
      "scene          \t0.6914\t\t0.0080\t\t0.3015\t\t0.0166\n",
      "libras_move    \t0.9433\t\t0.0158\t\t0.7993\t\t0.0258\n",
      "thyroid_sick   \t0.9724\t\t0.0045\t\t0.8842\t\t0.0059\n",
      "coil_2000      \t0.6530\t\t0.0055\t\t0.2079\t\t0.0055\n",
      "arrhythmia     \t0.9114\t\t0.0181\t\t0.6320\t\t0.0632\n",
      "solar_flare_m0 \t0.7257\t\t0.0244\t\t0.2542\t\t0.0175\n",
      "oil            \t0.8448\t\t0.0201\t\t0.5733\t\t0.0190\n",
      "car_eval_4     \t0.9967\t\t0.0011\t\t0.9515\t\t0.0156\n",
      "wine_quality   \t0.8137\t\t0.0090\t\t0.4520\t\t0.0102\n",
      "letter_img     \t0.9947\t\t0.0011\t\t0.9697\t\t0.0011\n",
      "yeast_me2      \t0.8473\t\t0.0131\t\t0.4322\t\t0.0301\n",
      "webpage        \t0.9311\t\t0.0016\t\t0.7861\t\t0.0077\n",
      "ozone_level    \t0.8183\t\t0.0100\t\t0.3703\t\t0.0138\n",
      "mammography    \t0.9089\t\t0.0022\t\t0.7127\t\t0.0063\n",
      "protein_homo   \t0.9513\t\t0.0012\t\t0.8622\t\t0.0029\n",
      "abalone_19     \t0.6721\t\t0.0293\t\t0.0767\t\t0.0191\n"
     ]
    }
   ],
   "source": [
    "print(\"Dataset\\t\\tGMeans (mean)\\tGMeans(std)\\tF1 (mean)\\tF1(std)\")\n",
    "for dataset, r in results.items():\n",
    "    print(\"%-15s\\t%.4f\\t\\t%.4f\\t\\t%.4f\\t\\t%.4f\" % (dataset, *(r)))"
   ]
  },
  {
   "cell_type": "markdown",
   "metadata": {},
   "source": [
    "## Save Results"
   ]
  },
  {
   "cell_type": "code",
   "execution_count": 9,
   "metadata": {},
   "outputs": [],
   "source": [
    "with open(\"results\\ex01_baseline.pk\", \"wb\") as f:\n",
    "    pickle.dump(results, f)"
   ]
  },
  {
   "cell_type": "code",
   "execution_count": null,
   "metadata": {},
   "outputs": [],
   "source": []
  }
 ],
 "metadata": {
  "kernelspec": {
   "display_name": "Python 3",
   "language": "python",
   "name": "python3"
  },
  "language_info": {
   "codemirror_mode": {
    "name": "ipython",
    "version": 3
   },
   "file_extension": ".py",
   "mimetype": "text/x-python",
   "name": "python",
   "nbconvert_exporter": "python",
   "pygments_lexer": "ipython3",
   "version": "3.8.3"
  }
 },
 "nbformat": 4,
 "nbformat_minor": 4
}
