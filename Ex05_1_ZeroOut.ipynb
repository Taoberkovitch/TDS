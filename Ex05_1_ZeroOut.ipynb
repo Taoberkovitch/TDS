{
 "cells": [
  {
   "cell_type": "markdown",
   "metadata": {},
   "source": [
    "## Imports"
   ]
  },
  {
   "cell_type": "code",
   "execution_count": 1,
   "metadata": {},
   "outputs": [],
   "source": [
    "import math\n",
    "import numpy as np\n",
    "import pandas as pd\n",
    "\n",
    "from imblearn.datasets import fetch_datasets\n",
    "\n",
    "from sklearn.model_selection import StratifiedKFold\n",
    "from sklearn.ensemble import RandomForestClassifier\n",
    "\n",
    "from sklearn.metrics import *\n",
    "\n",
    "from tqdm.notebook import tqdm\n",
    "import pickle"
   ]
  },
  {
   "cell_type": "code",
   "execution_count": 2,
   "metadata": {},
   "outputs": [],
   "source": [
    "import warnings\n",
    "warnings.filterwarnings('ignore')"
   ]
  },
  {
   "cell_type": "markdown",
   "metadata": {},
   "source": [
    "## Load Data"
   ]
  },
  {
   "cell_type": "code",
   "execution_count": 3,
   "metadata": {},
   "outputs": [],
   "source": [
    "datasets = fetch_datasets()"
   ]
  },
  {
   "cell_type": "code",
   "execution_count": 4,
   "metadata": {},
   "outputs": [],
   "source": [
    "DATASETS_13 = [\n",
    "    'ecoli',\n",
    "    'satimage',\n",
    "    'abalone',\n",
    "    'us_crime',\n",
    "    'yeast_ml8',\n",
    "    'scene',\n",
    "    'coil_2000',\n",
    "    'solar_flare_m0',\n",
    "    'oil',\n",
    "    'wine_quality',\n",
    "    'yeast_me2',\n",
    "    'ozone_level',\n",
    "    'abalone_19'\n",
    "]"
   ]
  },
  {
   "cell_type": "markdown",
   "metadata": {},
   "source": [
    "## Model"
   ]
  },
  {
   "cell_type": "code",
   "execution_count": 5,
   "metadata": {},
   "outputs": [],
   "source": [
    "def resample_train_X_y(X_train, y_train, corruption_ratio):\n",
    "    minority_data = X_train[y_train==1]\n",
    "    majority_data = X_train[y_train==0]\n",
    "\n",
    "    oversampled_minority_data = minority_data[np.random.choice(minority_data.shape[0], len(majority_data), replace=True)]\n",
    "    columns = np.split(oversampled_minority_data, oversampled_minority_data.shape[1], axis=1)\n",
    "    corrupted_columns = [np.zeros(len(column)) for column in columns]\n",
    "    corrupted_data = np.vstack(corrupted_columns).T   \n",
    "    \n",
    "    prob_matrix = np.random.choice(\n",
    "        [1, 0], \n",
    "        corrupted_data.shape[0] * corrupted_data.shape[1], \n",
    "        p = [corruption_ratio, 1-corruption_ratio]\n",
    "    ).reshape(corrupted_data.shape)\n",
    "    \n",
    "    resampled_minority_data = (1.0 - prob_matrix) * oversampled_minority_data + prob_matrix * corrupted_data\n",
    "    X_res = np.concatenate((resampled_minority_data, majority_data))    \n",
    "    y_res = np.concatenate((np.ones(len(resampled_minority_data)), np.zeros(len(majority_data))))\n",
    "    \n",
    "    return X_res, y_res"
   ]
  },
  {
   "cell_type": "code",
   "execution_count": 6,
   "metadata": {},
   "outputs": [],
   "source": [
    "def run_model(X, y, corruption_ratio, random_state, n_folds=5):\n",
    "    pred_probas = np.zeros(len(X))\n",
    "    \n",
    "    folds = StratifiedKFold(n_splits=n_folds, shuffle=True, random_state=random_state)\n",
    "    for n_fold, (train_idx, valid_idx) in enumerate(folds.split(X, y)):\n",
    "        X_train = X[train_idx]\n",
    "        X_valid = X[valid_idx]\n",
    "\n",
    "        y_train = y[train_idx]\n",
    "        y_valid = y[valid_idx]\n",
    "        \n",
    "        X_res, y_res = resample_train_X_y(X_train, y_train, corruption_ratio)\n",
    "\n",
    "        model = RandomForestClassifier(random_state=random_state)    \n",
    "        model = model.fit(X_res, y_res)\n",
    "\n",
    "        valid_pred_proba = model.predict_proba(X_valid)[:,1]    \n",
    "        pred_probas[valid_idx] += valid_pred_proba\n",
    "        \n",
    "    return pred_probas    "
   ]
  },
  {
   "cell_type": "code",
   "execution_count": 7,
   "metadata": {},
   "outputs": [],
   "source": [
    "def calc_gmeans(y, pred_probas):\n",
    "    fpr, tpr, thresholds = roc_curve(y, pred_probas)\n",
    "    gmeans = np.sqrt(tpr * (1-fpr))\n",
    "    ix = np.argmax(gmeans)\n",
    "    return gmeans[ix]\n",
    "\n",
    "def calc_f1(y, pred_probas):\n",
    "    precision, recall, thresholds = precision_recall_curve(y, pred_probas)\n",
    "    fscore = []\n",
    "    for p, r in zip(precision, recall):\n",
    "        f1 = (2 * p * r) / (p + r)\n",
    "        if 0.0 <= f1 <= 1.0:\n",
    "            fscore.append(f1)    \n",
    "    ix = np.argmax(fscore)\n",
    "    return fscore[ix]\n",
    "\n",
    "def train_and_evaluate(dataset_name, corruption_ratio, num_runs=10):\n",
    "    gmeans_scores, f1_scores = [], []\n",
    "    \n",
    "    dataset = datasets[dataset_name]\n",
    "    X = dataset.data\n",
    "    y = np.where(dataset.target == -1, 0, 1) \n",
    "    \n",
    "    for run in range(num_runs):\n",
    "        pred_probas = run_model(X, y, corruption_ratio, random_state=run)\n",
    "        gmeans_scores.append(calc_gmeans(y, pred_probas))\n",
    "        f1_scores.append(calc_f1(y, pred_probas))\n",
    "        \n",
    "    return gmeans_scores, f1_scores    "
   ]
  },
  {
   "cell_type": "markdown",
   "metadata": {},
   "source": [
    "## Train and Evaluate"
   ]
  },
  {
   "cell_type": "code",
   "execution_count": 8,
   "metadata": {},
   "outputs": [
    {
     "name": "stdout",
     "output_type": "stream",
     "text": [
      "\n",
      "====================\n",
      "Corruption Ratio 0.10\n",
      "====================\n",
      "Set #1: ecoli\n",
      "Set #2: satimage\n",
      "Set #3: abalone\n",
      "Set #4: us_crime\n",
      "Set #5: yeast_ml8\n",
      "Set #6: scene\n",
      "Set #7: coil_2000\n",
      "Set #8: solar_flare_m0\n",
      "Set #9: oil\n",
      "Set #10: wine_quality\n",
      "Set #11: yeast_me2\n",
      "Set #12: ozone_level\n",
      "Set #13: abalone_19\n",
      "====================\n",
      "Dataset\t\tGMeans (mean)\tGMeans(std)\tF1 (mean)\tF1(std)\n",
      "ecoli          \t0.8637\t\t0.0177\t\t0.6067\t\t0.0291\n",
      "satimage       \t0.8865\t\t0.0027\t\t0.6810\t\t0.0025\n",
      "abalone        \t0.7812\t\t0.0046\t\t0.3964\t\t0.0072\n",
      "us_crime       \t0.8573\t\t0.0051\t\t0.5460\t\t0.0174\n",
      "yeast_ml8      \t0.5866\t\t0.0155\t\t0.1743\t\t0.0084\n",
      "scene          \t0.6679\t\t0.0042\t\t0.2740\t\t0.0109\n",
      "coil_2000      \t0.6245\t\t0.0092\t\t0.1754\t\t0.0039\n",
      "solar_flare_m0 \t0.7192\t\t0.0199\t\t0.2363\t\t0.0193\n",
      "oil            \t0.8737\t\t0.0182\t\t0.5865\t\t0.0316\n",
      "wine_quality   \t0.8099\t\t0.0082\t\t0.4469\t\t0.0189\n",
      "yeast_me2      \t0.8537\t\t0.0132\t\t0.4120\t\t0.0370\n",
      "ozone_level    \t0.8189\t\t0.0119\t\t0.3788\t\t0.0134\n",
      "abalone_19     \t0.6807\t\t0.0348\t\t0.0705\t\t0.0187\n",
      "\n",
      "====================\n",
      "Corruption Ratio 0.25\n",
      "====================\n",
      "Set #1: ecoli\n",
      "Set #2: satimage\n",
      "Set #3: abalone\n",
      "Set #4: us_crime\n",
      "Set #5: yeast_ml8\n",
      "Set #6: scene\n",
      "Set #7: coil_2000\n",
      "Set #8: solar_flare_m0\n",
      "Set #9: oil\n",
      "Set #10: wine_quality\n",
      "Set #11: yeast_me2\n",
      "Set #12: ozone_level\n",
      "Set #13: abalone_19\n",
      "====================\n",
      "Dataset\t\tGMeans (mean)\tGMeans(std)\tF1 (mean)\tF1(std)\n",
      "ecoli          \t0.8659\t\t0.0154\t\t0.6370\t\t0.0228\n",
      "satimage       \t0.8190\t\t0.0049\t\t0.5594\t\t0.0092\n",
      "abalone        \t0.7774\t\t0.0048\t\t0.3879\t\t0.0100\n",
      "us_crime       \t0.8274\t\t0.0049\t\t0.5227\t\t0.0082\n",
      "yeast_ml8      \t0.5802\t\t0.0087\t\t0.1709\t\t0.0046\n",
      "scene          \t0.5352\t\t0.0090\t\t0.1493\t\t0.0044\n",
      "coil_2000      \t0.5602\t\t0.0094\t\t0.1383\t\t0.0037\n",
      "solar_flare_m0 \t0.7180\t\t0.0209\t\t0.2476\t\t0.0164\n",
      "oil            \t0.8486\t\t0.0136\t\t0.5304\t\t0.0258\n",
      "wine_quality   \t0.7999\t\t0.0120\t\t0.4261\t\t0.0154\n",
      "yeast_me2      \t0.8578\t\t0.0124\t\t0.4096\t\t0.0232\n",
      "ozone_level    \t0.8107\t\t0.0070\t\t0.3663\t\t0.0199\n",
      "abalone_19     \t0.6701\t\t0.0191\t\t0.0779\t\t0.0192\n",
      "\n",
      "====================\n",
      "Corruption Ratio 0.50\n",
      "====================\n",
      "Set #1: ecoli\n",
      "Set #2: satimage\n",
      "Set #3: abalone\n",
      "Set #4: us_crime\n",
      "Set #5: yeast_ml8\n",
      "Set #6: scene\n",
      "Set #7: coil_2000\n",
      "Set #8: solar_flare_m0\n",
      "Set #9: oil\n",
      "Set #10: wine_quality\n",
      "Set #11: yeast_me2\n",
      "Set #12: ozone_level\n",
      "Set #13: abalone_19\n",
      "====================\n",
      "Dataset\t\tGMeans (mean)\tGMeans(std)\tF1 (mean)\tF1(std)\n",
      "ecoli          \t0.8314\t\t0.0181\t\t0.5641\t\t0.0488\n",
      "satimage       \t0.0267\t\t0.0369\t\t0.1773\t\t0.0000\n",
      "abalone        \t0.6764\t\t0.0153\t\t0.2986\t\t0.0096\n",
      "us_crime       \t0.7883\t\t0.0096\t\t0.4650\t\t0.0117\n",
      "yeast_ml8      \t0.5689\t\t0.0114\t\t0.1645\t\t0.0056\n",
      "scene          \t0.4353\t\t0.0134\t\t0.1370\t\t0.0000\n",
      "coil_2000      \t0.3531\t\t0.0068\t\t0.1126\t\t0.0000\n",
      "solar_flare_m0 \t0.6749\t\t0.0120\t\t0.2599\t\t0.0116\n",
      "oil            \t0.7783\t\t0.0140\t\t0.3955\t\t0.0444\n",
      "wine_quality   \t0.6960\t\t0.0108\t\t0.2994\t\t0.0195\n",
      "yeast_me2      \t0.8067\t\t0.0201\t\t0.3676\t\t0.0237\n",
      "ozone_level    \t0.7541\t\t0.0248\t\t0.2140\t\t0.0198\n",
      "abalone_19     \t0.6374\t\t0.0418\t\t0.0560\t\t0.0134\n"
     ]
    }
   ],
   "source": [
    "for corruption_ratio in (0.1, 0.25, 0.5):\n",
    "    print(\"\\n====================\")\n",
    "    print(\"Corruption Ratio %.2f\" % corruption_ratio)\n",
    "    print(\"====================\")\n",
    "    results = {}\n",
    "\n",
    "    for i, dataset_name in enumerate(DATASETS_13):\n",
    "        print(\"Set #%d: %s\" % ((i+1), dataset_name))\n",
    "        gmeans_scores, f1_scores = train_and_evaluate(dataset_name, corruption_ratio)\n",
    "        results[dataset_name] = (np.mean(gmeans_scores), np.std(gmeans_scores), np.mean(f1_scores), np.std(f1_scores))\n",
    "    \n",
    "    print(\"====================\")\n",
    "    print(\"Dataset\\t\\tGMeans (mean)\\tGMeans(std)\\tF1 (mean)\\tF1(std)\")\n",
    "    for dataset, r in results.items():\n",
    "        print(\"%-15s\\t%.4f\\t\\t%.4f\\t\\t%.4f\\t\\t%.4f\" % (dataset, *(r))) \n",
    "    \n",
    "    with open(\"results\\ex05_1_zero_out_%.2f.pk\" % corruption_ratio, \"wb\") as f:\n",
    "        pickle.dump(results, f)"
   ]
  },
  {
   "cell_type": "code",
   "execution_count": null,
   "metadata": {},
   "outputs": [],
   "source": []
  }
 ],
 "metadata": {
  "kernelspec": {
   "display_name": "Python 3",
   "language": "python",
   "name": "python3"
  },
  "language_info": {
   "codemirror_mode": {
    "name": "ipython",
    "version": 3
   },
   "file_extension": ".py",
   "mimetype": "text/x-python",
   "name": "python",
   "nbconvert_exporter": "python",
   "pygments_lexer": "ipython3",
   "version": "3.8.3"
  }
 },
 "nbformat": 4,
 "nbformat_minor": 4
}
