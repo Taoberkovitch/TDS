{
 "cells": [
  {
   "cell_type": "markdown",
   "metadata": {},
   "source": [
    "## Imports"
   ]
  },
  {
   "cell_type": "code",
   "execution_count": 1,
   "metadata": {},
   "outputs": [],
   "source": [
    "import math\n",
    "import numpy as np\n",
    "import pandas as pd\n",
    "\n",
    "from imblearn.datasets import fetch_datasets\n",
    "\n",
    "from sklearn.model_selection import StratifiedKFold\n",
    "from sklearn.ensemble import RandomForestClassifier\n",
    "\n",
    "from sklearn.metrics import *\n",
    "\n",
    "from tqdm.notebook import tqdm\n",
    "import pickle"
   ]
  },
  {
   "cell_type": "code",
   "execution_count": 2,
   "metadata": {},
   "outputs": [],
   "source": [
    "import warnings\n",
    "warnings.filterwarnings('ignore')"
   ]
  },
  {
   "cell_type": "markdown",
   "metadata": {},
   "source": [
    "## Load Data"
   ]
  },
  {
   "cell_type": "code",
   "execution_count": 3,
   "metadata": {},
   "outputs": [],
   "source": [
    "datasets = fetch_datasets()"
   ]
  },
  {
   "cell_type": "code",
   "execution_count": 4,
   "metadata": {},
   "outputs": [],
   "source": [
    "DATASETS_13 = [\n",
    "    'ecoli',\n",
    "    'satimage',\n",
    "    'abalone',\n",
    "    'us_crime',\n",
    "    'yeast_ml8',\n",
    "    'scene',\n",
    "    'coil_2000',\n",
    "    'solar_flare_m0',\n",
    "    'oil',\n",
    "    'wine_quality',\n",
    "    'yeast_me2',\n",
    "    'ozone_level',\n",
    "    'abalone_19'\n",
    "]"
   ]
  },
  {
   "cell_type": "markdown",
   "metadata": {},
   "source": [
    "## Model"
   ]
  },
  {
   "cell_type": "code",
   "execution_count": 5,
   "metadata": {},
   "outputs": [],
   "source": [
    "def resample_train_X_y(X_train, y_train, corruption_ratio):\n",
    "    minority_data = X_train[y_train==1]\n",
    "    majority_data = X_train[y_train==0]\n",
    "\n",
    "    oversampled_minority_data = minority_data[np.random.choice(minority_data.shape[0], len(majority_data), replace=True)]\n",
    "    columns = np.split(oversampled_minority_data, oversampled_minority_data.shape[1], axis=1)\n",
    "    corrupted_columns = [np.full(len(column), np.mean(column)) for column in columns]\n",
    "    corrupted_data = np.vstack(corrupted_columns).T   \n",
    "    \n",
    "    prob_matrix = np.random.choice(\n",
    "        [1, 0], \n",
    "        corrupted_data.shape[0] * corrupted_data.shape[1], \n",
    "        p = [corruption_ratio, 1-corruption_ratio]\n",
    "    ).reshape(corrupted_data.shape)\n",
    "    \n",
    "    resampled_minority_data = (1.0 - prob_matrix) * oversampled_minority_data + prob_matrix * corrupted_data\n",
    "    X_res = np.concatenate((resampled_minority_data, majority_data))    \n",
    "    y_res = np.concatenate((np.ones(len(resampled_minority_data)), np.zeros(len(majority_data))))\n",
    "    \n",
    "    return X_res, y_res"
   ]
  },
  {
   "cell_type": "code",
   "execution_count": 6,
   "metadata": {},
   "outputs": [],
   "source": [
    "def run_model(X, y, corruption_ratio, random_state, n_folds=5):\n",
    "    pred_probas = np.zeros(len(X))\n",
    "    \n",
    "    folds = StratifiedKFold(n_splits=n_folds, shuffle=True, random_state=random_state)\n",
    "    for n_fold, (train_idx, valid_idx) in enumerate(folds.split(X, y)):\n",
    "        X_train = X[train_idx]\n",
    "        X_valid = X[valid_idx]\n",
    "\n",
    "        y_train = y[train_idx]\n",
    "        y_valid = y[valid_idx]\n",
    "        \n",
    "        X_res, y_res = resample_train_X_y(X_train, y_train, corruption_ratio)\n",
    "\n",
    "        model = RandomForestClassifier(random_state=random_state)    \n",
    "        model = model.fit(X_res, y_res)\n",
    "\n",
    "        valid_pred_proba = model.predict_proba(X_valid)[:,1]    \n",
    "        pred_probas[valid_idx] += valid_pred_proba\n",
    "        \n",
    "    return pred_probas    "
   ]
  },
  {
   "cell_type": "code",
   "execution_count": 7,
   "metadata": {},
   "outputs": [],
   "source": [
    "def calc_gmeans(y, pred_probas):\n",
    "    fpr, tpr, thresholds = roc_curve(y, pred_probas)\n",
    "    gmeans = np.sqrt(tpr * (1-fpr))\n",
    "    ix = np.argmax(gmeans)\n",
    "    return gmeans[ix]\n",
    "\n",
    "def calc_f1(y, pred_probas):\n",
    "    precision, recall, thresholds = precision_recall_curve(y, pred_probas)\n",
    "    fscore = []\n",
    "    for p, r in zip(precision, recall):\n",
    "        f1 = (2 * p * r) / (p + r)\n",
    "        if 0.0 <= f1 <= 1.0:\n",
    "            fscore.append(f1)    \n",
    "    ix = np.argmax(fscore)\n",
    "    return fscore[ix]\n",
    "\n",
    "def train_and_evaluate(dataset_name, corruption_ratio, num_runs=10):\n",
    "    gmeans_scores, f1_scores = [], []\n",
    "    \n",
    "    dataset = datasets[dataset_name]\n",
    "    X = dataset.data\n",
    "    y = np.where(dataset.target == -1, 0, 1) \n",
    "    \n",
    "    for run in range(num_runs):\n",
    "        pred_probas = run_model(X, y, corruption_ratio, random_state=run)\n",
    "        gmeans_scores.append(calc_gmeans(y, pred_probas))\n",
    "        f1_scores.append(calc_f1(y, pred_probas))\n",
    "        \n",
    "    return gmeans_scores, f1_scores    "
   ]
  },
  {
   "cell_type": "markdown",
   "metadata": {},
   "source": [
    "## Train and Evaluate"
   ]
  },
  {
   "cell_type": "code",
   "execution_count": 8,
   "metadata": {},
   "outputs": [
    {
     "name": "stdout",
     "output_type": "stream",
     "text": [
      "\n",
      "====================\n",
      "Corruption Ratio 0.10\n",
      "====================\n",
      "Set #1: ecoli\n",
      "Set #2: satimage\n",
      "Set #3: abalone\n",
      "Set #4: us_crime\n",
      "Set #5: yeast_ml8\n",
      "Set #6: scene\n",
      "Set #7: coil_2000\n",
      "Set #8: solar_flare_m0\n",
      "Set #9: oil\n",
      "Set #10: wine_quality\n",
      "Set #11: yeast_me2\n",
      "Set #12: ozone_level\n",
      "Set #13: abalone_19\n",
      "====================\n",
      "Dataset\t\tGMeans (mean)\tGMeans(std)\tF1 (mean)\tF1(std)\n",
      "ecoli          \t0.8887\t\t0.0104\t\t0.6178\t\t0.0147\n",
      "satimage       \t0.8938\t\t0.0027\t\t0.6930\t\t0.0047\n",
      "abalone        \t0.7820\t\t0.0041\t\t0.3925\t\t0.0059\n",
      "us_crime       \t0.8565\t\t0.0076\t\t0.5302\t\t0.0082\n",
      "yeast_ml8      \t0.5826\t\t0.0138\t\t0.1725\t\t0.0083\n",
      "scene          \t0.7350\t\t0.0077\t\t0.3192\t\t0.0139\n",
      "coil_2000      \t0.6317\t\t0.0058\t\t0.2004\t\t0.0028\n",
      "solar_flare_m0 \t0.7180\t\t0.0254\t\t0.2532\t\t0.0157\n",
      "oil            \t0.8660\t\t0.0119\t\t0.5954\t\t0.0366\n",
      "wine_quality   \t0.8042\t\t0.0069\t\t0.4081\t\t0.0143\n",
      "yeast_me2      \t0.8653\t\t0.0100\t\t0.4124\t\t0.0435\n",
      "ozone_level    \t0.8120\t\t0.0090\t\t0.3943\t\t0.0172\n",
      "abalone_19     \t0.6960\t\t0.0249\t\t0.0670\t\t0.0119\n",
      "\n",
      "====================\n",
      "Corruption Ratio 0.25\n",
      "====================\n",
      "Set #1: ecoli\n",
      "Set #2: satimage\n",
      "Set #3: abalone\n",
      "Set #4: us_crime\n",
      "Set #5: yeast_ml8\n",
      "Set #6: scene\n",
      "Set #7: coil_2000\n",
      "Set #8: solar_flare_m0\n",
      "Set #9: oil\n",
      "Set #10: wine_quality\n",
      "Set #11: yeast_me2\n",
      "Set #12: ozone_level\n",
      "Set #13: abalone_19\n",
      "====================\n",
      "Dataset\t\tGMeans (mean)\tGMeans(std)\tF1 (mean)\tF1(std)\n",
      "ecoli          \t0.8911\t\t0.0107\t\t0.6243\t\t0.0242\n",
      "satimage       \t0.8665\t\t0.0018\t\t0.6787\t\t0.0058\n",
      "abalone        \t0.7685\t\t0.0064\t\t0.3689\t\t0.0061\n",
      "us_crime       \t0.8579\t\t0.0062\t\t0.5457\t\t0.0068\n",
      "yeast_ml8      \t0.5900\t\t0.0118\t\t0.1765\t\t0.0081\n",
      "scene          \t0.7232\t\t0.0085\t\t0.3345\t\t0.0072\n",
      "coil_2000      \t0.4875\t\t0.0065\t\t0.1373\t\t0.0019\n",
      "solar_flare_m0 \t0.6718\t\t0.0061\t\t0.2513\t\t0.0150\n",
      "oil            \t0.8594\t\t0.0117\t\t0.6002\t\t0.0330\n",
      "wine_quality   \t0.8000\t\t0.0110\t\t0.3925\t\t0.0214\n",
      "yeast_me2      \t0.8590\t\t0.0164\t\t0.4004\t\t0.0363\n",
      "ozone_level    \t0.8160\t\t0.0071\t\t0.4123\t\t0.0327\n",
      "abalone_19     \t0.6896\t\t0.0234\t\t0.0546\t\t0.0097\n",
      "\n",
      "====================\n",
      "Corruption Ratio 0.50\n",
      "====================\n",
      "Set #1: ecoli\n",
      "Set #2: satimage\n",
      "Set #3: abalone\n",
      "Set #4: us_crime\n",
      "Set #5: yeast_ml8\n",
      "Set #6: scene\n",
      "Set #7: coil_2000\n",
      "Set #8: solar_flare_m0\n",
      "Set #9: oil\n",
      "Set #10: wine_quality\n",
      "Set #11: yeast_me2\n",
      "Set #12: ozone_level\n",
      "Set #13: abalone_19\n",
      "====================\n",
      "Dataset\t\tGMeans (mean)\tGMeans(std)\tF1 (mean)\tF1(std)\n",
      "ecoli          \t0.8942\t\t0.0127\t\t0.6350\t\t0.0237\n",
      "satimage       \t0.8434\t\t0.0021\t\t0.6282\t\t0.0031\n",
      "abalone        \t0.7076\t\t0.0092\t\t0.3251\t\t0.0043\n",
      "us_crime       \t0.8514\t\t0.0043\t\t0.5424\t\t0.0080\n",
      "yeast_ml8      \t0.5787\t\t0.0100\t\t0.1749\t\t0.0080\n",
      "scene          \t0.6995\t\t0.0070\t\t0.3000\t\t0.0090\n",
      "coil_2000      \t0.3707\t\t0.0064\t\t0.1225\t\t0.0044\n",
      "solar_flare_m0 \t0.6362\t\t0.0182\t\t0.2469\t\t0.0161\n",
      "oil            \t0.8298\t\t0.0139\t\t0.5942\t\t0.0306\n",
      "wine_quality   \t0.7759\t\t0.0112\t\t0.3445\t\t0.0205\n",
      "yeast_me2      \t0.8514\t\t0.0102\t\t0.4035\t\t0.0232\n",
      "ozone_level    \t0.8062\t\t0.0093\t\t0.3509\t\t0.0159\n",
      "abalone_19     \t0.6707\t\t0.0277\t\t0.0459\t\t0.0067\n"
     ]
    }
   ],
   "source": [
    "for corruption_ratio in (0.1, 0.25, 0.5):\n",
    "    print(\"\\n====================\")\n",
    "    print(\"Corruption Ratio %.2f\" % corruption_ratio)\n",
    "    print(\"====================\")\n",
    "    results = {}\n",
    "\n",
    "    for i, dataset_name in enumerate(DATASETS_13):\n",
    "        print(\"Set #%d: %s\" % ((i+1), dataset_name))\n",
    "        gmeans_scores, f1_scores = train_and_evaluate(dataset_name, corruption_ratio)\n",
    "        results[dataset_name] = (np.mean(gmeans_scores), np.std(gmeans_scores), np.mean(f1_scores), np.std(f1_scores))\n",
    "    \n",
    "    print(\"====================\")\n",
    "    print(\"Dataset\\t\\tGMeans (mean)\\tGMeans(std)\\tF1 (mean)\\tF1(std)\")\n",
    "    for dataset, r in results.items():\n",
    "        print(\"%-15s\\t%.4f\\t\\t%.4f\\t\\t%.4f\\t\\t%.4f\" % (dataset, *(r))) \n",
    "    \n",
    "    with open(\"results\\ex05_2_mean_fill_%.2f.pk\" % corruption_ratio, \"wb\") as f:\n",
    "        pickle.dump(results, f)"
   ]
  },
  {
   "cell_type": "code",
   "execution_count": null,
   "metadata": {},
   "outputs": [],
   "source": []
  }
 ],
 "metadata": {
  "kernelspec": {
   "display_name": "Python 3",
   "language": "python",
   "name": "python3"
  },
  "language_info": {
   "codemirror_mode": {
    "name": "ipython",
    "version": 3
   },
   "file_extension": ".py",
   "mimetype": "text/x-python",
   "name": "python",
   "nbconvert_exporter": "python",
   "pygments_lexer": "ipython3",
   "version": "3.8.3"
  }
 },
 "nbformat": 4,
 "nbformat_minor": 4
}
