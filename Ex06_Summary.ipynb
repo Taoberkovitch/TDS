{
 "cells": [
  {
   "cell_type": "markdown",
   "metadata": {},
   "source": [
    "## Imports"
   ]
  },
  {
   "cell_type": "code",
   "execution_count": 1,
   "metadata": {},
   "outputs": [],
   "source": [
    "import pickle\n",
    "from collections import defaultdict\n",
    "import numpy as np\n",
    "import scipy.stats as ss"
   ]
  },
  {
   "cell_type": "code",
   "execution_count": 2,
   "metadata": {},
   "outputs": [],
   "source": [
    "import warnings\n",
    "warnings.filterwarnings('ignore')"
   ]
  },
  {
   "cell_type": "markdown",
   "metadata": {},
   "source": [
    "## Load Results"
   ]
  },
  {
   "cell_type": "code",
   "execution_count": 3,
   "metadata": {},
   "outputs": [],
   "source": [
    "DATASETS_13 = [\n",
    "    'ecoli',\n",
    "    'satimage',\n",
    "    'abalone',\n",
    "    'us_crime',\n",
    "    'yeast_ml8',\n",
    "    'scene',\n",
    "    'coil_2000',\n",
    "    'solar_flare_m0',\n",
    "    'oil',\n",
    "    'wine_quality',\n",
    "    'yeast_me2',\n",
    "    'ozone_level',\n",
    "    'abalone_19'\n",
    "]"
   ]
  },
  {
   "cell_type": "code",
   "execution_count": 4,
   "metadata": {},
   "outputs": [],
   "source": [
    "results = {\n",
    "    \"Baseline\": \"results\\ex01_baseline.pk\",\n",
    "    \"Majority Downsample\": \"results\\ex02_majority_downsample.pk\",\n",
    "    \"Minority Oversample\": \"results\\ex03_minority_oversample.pk\",\n",
    "    \"SMOTE\": \"results\\ex04_smote.pk\",\n",
    "    \"Zero Out Noise\": \"results\\ex05_1_zero_out_0.10.pk\",\n",
    "    \"Mean Fill\": \"results\\ex05_2_mean_fill_0.10.pk\",\n",
    "    \"Gaussian Noise\": \"results\\ex05_3_gaussian_noise_0.10.pk\",\n",
    "    \"Permutation\": \"results\\ex05_4_permutation_0.10.pk\"\n",
    "}"
   ]
  },
  {
   "cell_type": "code",
   "execution_count": 5,
   "metadata": {},
   "outputs": [],
   "source": [
    "gmeans_scores, f1_scores = defaultdict(list), defaultdict(list)\n",
    "for experiment, result_file in results.items():\n",
    "    with open(result_file, \"rb\") as f:\n",
    "        result = pickle.load(f)\n",
    "        for dataset, scores in result.items():\n",
    "            if dataset in DATASETS_13:\n",
    "                gmeans_scores[dataset].append(scores[0])\n",
    "                f1_scores[dataset].append(scores[2])"
   ]
  },
  {
   "cell_type": "markdown",
   "metadata": {},
   "source": [
    "## Display Results"
   ]
  },
  {
   "cell_type": "code",
   "execution_count": 6,
   "metadata": {},
   "outputs": [
    {
     "name": "stdout",
     "output_type": "stream",
     "text": [
      "Dataset\t\tBase\tMajDown\tMinOvr\tSMOTE\tZero\tMeanF\tGauss\tPerm\n",
      "ecoli          \t0.8795\t0.8825\t0.8818\t0.8918\t0.8637\t0.8887\t0.8898\t0.8813\n",
      "satimage       \t0.8911\t0.8827\t0.8987\t0.9008\t0.8865\t0.8938\t0.8925\t0.8930\n",
      "abalone        \t0.7876\t0.7901\t0.7816\t0.7833\t0.7812\t0.7820\t0.7806\t0.7851\n",
      "us_crime       \t0.8581\t0.8582\t0.8533\t0.8515\t0.8573\t0.8565\t0.8616\t0.8605\n",
      "yeast_ml8      \t0.5574\t0.5738\t0.5764\t0.5668\t0.5866\t0.5826\t0.5740\t0.5759\n",
      "scene          \t0.6914\t0.7268\t0.7350\t0.7290\t0.6679\t0.7350\t0.7353\t0.7325\n",
      "coil_2000      \t0.6530\t0.6659\t0.6591\t0.6420\t0.6245\t0.6317\t0.6579\t0.6443\n",
      "solar_flare_m0 \t0.7257\t0.7193\t0.7118\t0.7343\t0.7192\t0.7180\t0.7139\t0.7112\n",
      "oil            \t0.8448\t0.8287\t0.8728\t0.8858\t0.8737\t0.8660\t0.8744\t0.8750\n",
      "wine_quality   \t0.8137\t0.7841\t0.8108\t0.8048\t0.8099\t0.8042\t0.8211\t0.8186\n",
      "yeast_me2      \t0.8473\t0.8403\t0.8531\t0.8570\t0.8537\t0.8653\t0.8650\t0.8573\n",
      "ozone_level    \t0.8183\t0.8177\t0.8153\t0.8180\t0.8189\t0.8120\t0.8294\t0.8236\n",
      "abalone_19     \t0.6721\t0.7330\t0.6666\t0.7314\t0.6807\t0.6960\t0.7156\t0.7196\n"
     ]
    }
   ],
   "source": [
    "print(\"Dataset\\t\\tBase\\tMajDown\\tMinOvr\\tSMOTE\\tZero\\tMeanF\\tGauss\\tPerm\")\n",
    "for dataset, r in gmeans_scores.items():\n",
    "    print(\"%-15s\\t%.4f\\t%.4f\\t%.4f\\t%.4f\\t%.4f\\t%.4f\\t%.4f\\t%.4f\" % (dataset, *(r))) "
   ]
  },
  {
   "cell_type": "code",
   "execution_count": 7,
   "metadata": {},
   "outputs": [
    {
     "name": "stdout",
     "output_type": "stream",
     "text": [
      "Dataset\t\tBase\tMajDown\tMinOvr\tSMOTE\tZero\tMeanF\tGauss\tPerm\n",
      "ecoli          \t7\t4\t5\t1\t8\t3\t2\t6\n",
      "satimage       \t6\t8\t2\t1\t7\t3\t5\t4\n",
      "abalone        \t2\t1\t6\t4\t7\t5\t8\t3\n",
      "us_crime       \t4\t3\t7\t8\t5\t6\t1\t2\n",
      "yeast_ml8      \t8\t6\t3\t7\t1\t2\t5\t4\n",
      "scene          \t7\t6\t3\t5\t8\t2\t1\t4\n",
      "coil_2000      \t4\t1\t2\t6\t8\t7\t3\t5\n",
      "solar_flare_m0 \t2\t3\t7\t1\t4\t5\t6\t8\n",
      "oil            \t7\t8\t5\t1\t4\t6\t3\t2\n",
      "wine_quality   \t3\t8\t4\t6\t5\t7\t1\t2\n",
      "yeast_me2      \t7\t8\t6\t4\t5\t1\t2\t3\n",
      "ozone_level    \t4\t6\t7\t5\t3\t8\t1\t2\n",
      "abalone_19     \t7\t1\t8\t2\t6\t5\t4\t3\n",
      "================================================================================\n",
      "               \t5.23\t4.85\t5.00\t3.92\t5.46\t4.62\t3.23\t3.69\n"
     ]
    }
   ],
   "source": [
    "method_ranks = np.zeros(8)\n",
    "print(\"Dataset\\t\\tBase\\tMajDown\\tMinOvr\\tSMOTE\\tZero\\tMeanF\\tGauss\\tPerm\")\n",
    "for dataset, r in gmeans_scores.items():  \n",
    "    ranks = ss.rankdata((-1)*np.array(r))\n",
    "    print(\"%-15s\\t%.d\\t%.d\\t%d\\t%d\\t%d\\t%d\\t%d\\t%d\" % (dataset, *ranks)) \n",
    "    for i, rank in enumerate(ranks):\n",
    "        method_ranks[i] += rank\n",
    "method_ranks /= 13   \n",
    "print(\"=\"*80)\n",
    "print(\"%-15s\\t%.2f\\t%.2f\\t%.2f\\t%.2f\\t%.2f\\t%.2f\\t%.2f\\t%.2f\" % (\"\", *method_ranks))     "
   ]
  },
  {
   "cell_type": "code",
   "execution_count": 8,
   "metadata": {},
   "outputs": [
    {
     "name": "stdout",
     "output_type": "stream",
     "text": [
      "Dataset\t\tBase\tMajDown\tMinOvr\tSMOTE\tZero\tMeanF\tGauss\tPerm\n",
      "ecoli          \t0.6666\t0.6128\t0.6212\t0.6531\t0.6067\t0.6178\t0.6402\t0.6191\n",
      "satimage       \t0.6932\t0.6478\t0.6920\t0.6914\t0.6810\t0.6930\t0.6786\t0.6803\n",
      "abalone        \t0.3996\t0.4037\t0.4013\t0.3915\t0.3964\t0.3925\t0.3955\t0.3943\n",
      "us_crime       \t0.5490\t0.5247\t0.5249\t0.5193\t0.5460\t0.5302\t0.5392\t0.5357\n",
      "yeast_ml8      \t0.1608\t0.1726\t0.1705\t0.1640\t0.1743\t0.1725\t0.1683\t0.1688\n",
      "scene          \t0.3015\t0.3040\t0.3178\t0.3142\t0.2740\t0.3192\t0.3269\t0.3296\n",
      "coil_2000      \t0.2079\t0.2196\t0.2139\t0.2012\t0.1754\t0.2004\t0.2255\t0.2053\n",
      "solar_flare_m0 \t0.2542\t0.2368\t0.2111\t0.2454\t0.2363\t0.2532\t0.2462\t0.2360\n",
      "oil            \t0.5733\t0.4647\t0.6037\t0.6232\t0.5865\t0.5954\t0.6119\t0.5978\n",
      "wine_quality   \t0.4520\t0.3321\t0.4264\t0.3926\t0.4469\t0.4081\t0.4424\t0.4346\n",
      "yeast_me2      \t0.4322\t0.3715\t0.4592\t0.4193\t0.4120\t0.4124\t0.4389\t0.4060\n",
      "ozone_level    \t0.3703\t0.3381\t0.3696\t0.3618\t0.3788\t0.3943\t0.4135\t0.4007\n",
      "abalone_19     \t0.0767\t0.0588\t0.0894\t0.0832\t0.0705\t0.0670\t0.0608\t0.0649\n"
     ]
    }
   ],
   "source": [
    "print(\"Dataset\\t\\tBase\\tMajDown\\tMinOvr\\tSMOTE\\tZero\\tMeanF\\tGauss\\tPerm\")\n",
    "for dataset, r in f1_scores.items():\n",
    "    print(\"%-15s\\t%.4f\\t%.4f\\t%.4f\\t%.4f\\t%.4f\\t%.4f\\t%.4f\\t%.4f\" % (dataset, *(r))) "
   ]
  },
  {
   "cell_type": "code",
   "execution_count": 9,
   "metadata": {},
   "outputs": [
    {
     "name": "stdout",
     "output_type": "stream",
     "text": [
      "Dataset\t\tBase\tMajDown\tMinOvr\tSMOTE\tZero\tMeanF\tGauss\tPerm\n",
      "ecoli          \t1\t7\t4\t2\t8\t6\t3\t5\n",
      "satimage       \t1\t8\t3\t4\t5\t2\t7\t6\n",
      "abalone        \t3\t1\t2\t8\t4\t7\t5\t6\n",
      "us_crime       \t1\t7\t6\t8\t2\t5\t3\t4\n",
      "yeast_ml8      \t8\t2\t4\t7\t1\t3\t6\t5\n",
      "scene          \t7\t6\t4\t5\t8\t3\t2\t1\n",
      "coil_2000      \t4\t2\t3\t6\t8\t7\t1\t5\n",
      "solar_flare_m0 \t1\t5\t8\t4\t6\t2\t3\t7\n",
      "oil            \t7\t8\t3\t1\t6\t5\t2\t4\n",
      "wine_quality   \t1\t8\t5\t7\t2\t6\t3\t4\n",
      "yeast_me2      \t3\t8\t1\t4\t6\t5\t2\t7\n",
      "ozone_level    \t5\t8\t6\t7\t4\t3\t1\t2\n",
      "abalone_19     \t3\t8\t1\t2\t4\t5\t7\t6\n",
      "================================================================================\n",
      "               \t3.46\t6.00\t3.85\t5.00\t4.92\t4.54\t3.46\t4.77\n"
     ]
    }
   ],
   "source": [
    "method_ranks = np.zeros(8)\n",
    "print(\"Dataset\\t\\tBase\\tMajDown\\tMinOvr\\tSMOTE\\tZero\\tMeanF\\tGauss\\tPerm\")\n",
    "for dataset, r in f1_scores.items():  \n",
    "    ranks = ss.rankdata((-1)*np.array(r))\n",
    "    print(\"%-15s\\t%.d\\t%.d\\t%d\\t%d\\t%d\\t%d\\t%d\\t%d\" % (dataset, *ranks)) \n",
    "    for i, rank in enumerate(ranks):\n",
    "        method_ranks[i] += rank\n",
    "method_ranks /= 13   \n",
    "print(\"=\"*80)\n",
    "print(\"%-15s\\t%.2f\\t%.2f\\t%.2f\\t%.2f\\t%.2f\\t%.2f\\t%.2f\\t%.2f\" % (\"\", *method_ranks))      "
   ]
  },
  {
   "cell_type": "code",
   "execution_count": null,
   "metadata": {},
   "outputs": [],
   "source": []
  }
 ],
 "metadata": {
  "kernelspec": {
   "display_name": "Python 3",
   "language": "python",
   "name": "python3"
  },
  "language_info": {
   "codemirror_mode": {
    "name": "ipython",
    "version": 3
   },
   "file_extension": ".py",
   "mimetype": "text/x-python",
   "name": "python",
   "nbconvert_exporter": "python",
   "pygments_lexer": "ipython3",
   "version": "3.8.3"
  }
 },
 "nbformat": 4,
 "nbformat_minor": 4
}
